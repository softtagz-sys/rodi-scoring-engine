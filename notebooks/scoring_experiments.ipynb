{
 "cells": [
  {
   "metadata": {},
   "cell_type": "markdown",
   "source": "# Scoring Experiment",
   "id": "2aa8e604861c583d"
  },
  {
   "cell_type": "code",
   "id": "initial_id",
   "metadata": {
    "collapsed": true,
    "ExecuteTime": {
     "end_time": "2025-02-11T23:48:29.542197Z",
     "start_time": "2025-02-11T23:48:29.538406Z"
    }
   },
   "source": [
    "# imports\n",
    "import spacy\n",
    "from transformers import AutoTokenizer, AutoModel\n",
    "import phunspell\n",
    "import torch\n",
    "import matplotlib.pyplot as plt\n",
    "import numpy as np"
   ],
   "outputs": [],
   "execution_count": 72
  },
  {
   "metadata": {},
   "cell_type": "markdown",
   "source": [
    "### Load NLP Tools\n",
    "#### spacy\n",
    "We use spaCy for natural language processing (NLP) tasks such as tokenization and lemmatization"
   ],
   "id": "5e87ad0236fcf32e"
  },
  {
   "metadata": {
    "ExecuteTime": {
     "end_time": "2025-02-11T22:31:45.959712Z",
     "start_time": "2025-02-11T22:31:44.128352Z"
    }
   },
   "cell_type": "code",
   "source": "nlp = spacy.load('nl_core_news_sm')",
   "id": "d3e7ddd2c107dc7c",
   "outputs": [],
   "execution_count": 2
  },
  {
   "metadata": {},
   "cell_type": "markdown",
   "source": [
    "Download the dutch spacy model if necessary\n",
    "```bash\n",
    "python -m spacy download nl_core_news_sm\n",
    "```"
   ],
   "id": "2ebc0f95f0e15949"
  },
  {
   "metadata": {},
   "cell_type": "markdown",
   "source": [
    "#### Hunspell\n",
    "Because the original Hunspell libraries are outdated, we use a wrapper library called Phunspell. Phunspell allows us to perform spell-checking and corrections more efficiently in Python.\n"
   ],
   "id": "bd32c82339ad9bd6"
  },
  {
   "metadata": {
    "ExecuteTime": {
     "end_time": "2025-02-11T22:31:48.411959Z",
     "start_time": "2025-02-11T22:31:46.557254Z"
    }
   },
   "cell_type": "code",
   "source": "spell_checker = phunspell.Phunspell('nl_NL')",
   "id": "5509ea3c907bedd3",
   "outputs": [],
   "execution_count": 3
  },
  {
   "metadata": {},
   "cell_type": "markdown",
   "source": [
    "#### BERTje\n",
    "BERTje is a Dutch language model based on Google's BERT architecture. It is specifically trained on Dutch text, making it highly effective for tasks like semantic similarity comparison and text embeddings. We use BERTje to measure the similarity between student answers and model answers to provide accurate scoring."
   ],
   "id": "6074fd10369720e4"
  },
  {
   "metadata": {
    "ExecuteTime": {
     "end_time": "2025-02-11T22:31:49.676610Z",
     "start_time": "2025-02-11T22:31:48.425601Z"
    }
   },
   "cell_type": "code",
   "source": [
    "tokenizer = AutoTokenizer.from_pretrained(\"GroNLP/bert-base-dutch-cased\")\n",
    "bertje_model = AutoModel.from_pretrained(\"GroNLP/bert-base-dutch-cased\")"
   ],
   "id": "e7f8844e0fc238d0",
   "outputs": [
    {
     "name": "stderr",
     "output_type": "stream",
     "text": [
      "Some weights of BertModel were not initialized from the model checkpoint at GroNLP/bert-base-dutch-cased and are newly initialized: ['bert.pooler.dense.bias', 'bert.pooler.dense.weight']\n",
      "You should probably TRAIN this model on a down-stream task to be able to use it for predictions and inference.\n"
     ]
    }
   ],
   "execution_count": 4
  },
  {
   "metadata": {},
   "cell_type": "markdown",
   "source": [
    "### Test data\n",
    "Sample question and both a correct and incorrect student answer"
   ],
   "id": "3530f7648e94e45"
  },
  {
   "metadata": {
    "ExecuteTime": {
     "end_time": "2025-02-12T00:04:57.851888Z",
     "start_time": "2025-02-12T00:04:57.848266Z"
    }
   },
   "cell_type": "code",
   "source": [
    "model_answer = \"Inflatie is het algemene prijsniveau van goederen en diensten dat in de tijd stijgt, wat leidt tot een afname van de koopkracht.\"\n",
    "keywords =  [\"inflatie\", \"prijsniveau\", \"goederen\", \"diensten\", \"tijd\", \"stijgt\", \"koopkracht\"]\n",
    "student_answer = \"Inflatie is wanneer de prijzen van producten en diensten stijgen, waardoor je minder kunt kopen met hetzelfde geld.\""
   ],
   "id": "b2d6b28ca9c1400d",
   "outputs": [],
   "execution_count": 103
  },
  {
   "metadata": {},
   "cell_type": "markdown",
   "source": "## Step 1: Lemmatization",
   "id": "8bd80267dafc4df"
  },
  {
   "metadata": {
    "ExecuteTime": {
     "end_time": "2025-02-12T00:04:57.911451Z",
     "start_time": "2025-02-12T00:04:57.861412Z"
    }
   },
   "cell_type": "code",
   "source": [
    "# Lemmatize model_answer\n",
    "model_answer_doc = nlp(model_answer)\n",
    "lemmatized_model_answer = \" \".join([token.lemma_ for token in model_answer_doc])\n",
    "print(\"Lemmatized Model Answer:\", lemmatized_model_answer)\n",
    "\n",
    "# Lemmatize keywords\n",
    "lemmatized_keywords = [nlp(keyword)[0].lemma_ for keyword in keywords]\n",
    "print(\"Lemmatized Keywords:\", lemmatized_keywords)\n",
    "\n",
    "# Lemmatize student answer\n",
    "student_doc = nlp(student_answer)\n",
    "lemmatized_answer = \" \".join([token.lemma_ for token in student_doc])\n",
    "print(\"Lemmatized Answer:\", lemmatized_answer)"
   ],
   "id": "73b99770136a1167",
   "outputs": [
    {
     "name": "stdout",
     "output_type": "stream",
     "text": [
      "Lemmatized Model Answer: inflatie zijn het algemeen prijsniveau van goed en dienst dat in de tijd stijgen , wat leiden tot een afname van de koopkracht .\n",
      "Lemmatized Keywords: ['inflatie', 'prijsniveau', 'goed', 'dienst', 'tijd', 'stijgen', 'koopkracht']\n",
      "Lemmatized Answer: inflatie zijn wanneer de prijs van product en dienst stijgen , waardoor je weinig kunnen kopen met hetzelfde geld .\n"
     ]
    }
   ],
   "execution_count": 104
  },
  {
   "metadata": {},
   "cell_type": "markdown",
   "source": [
    "## Step 2: Spell Checking with Phunspell\n",
    "TODO: Validate spellchecking"
   ],
   "id": "97ac5ba3d7c06772"
  },
  {
   "metadata": {
    "ExecuteTime": {
     "end_time": "2025-02-12T00:04:57.983515Z",
     "start_time": "2025-02-12T00:04:57.974320Z"
    }
   },
   "cell_type": "code",
   "source": [
    "import string\n",
    "\n",
    "## Step 2: Spell Checking with Phunspell (Updated)\n",
    "\n",
    "# Remove punctuation before spell-checking\n",
    "translator = str.maketrans('', '', string.punctuation)\n",
    "lemmatized_answer_no_punctuation = lemmatized_answer.translate(translator)\n",
    "\n",
    "# Count spelling mistakes and store wrong words with their corrections\n",
    "misspelled_count = 0\n",
    "misspelled_words = {}\n",
    "\n",
    "corrected_tokens = []\n",
    "tokens_with_punctuation = lemmatized_answer.split()  # To track punctuation\n",
    "\n",
    "for i, word in enumerate(lemmatized_answer_no_punctuation.split()):\n",
    "    original_word = tokens_with_punctuation[i]\n",
    "    if not spell_checker.lookup(word):  # Word is misspelled\n",
    "        misspelled_count += 1\n",
    "        suggested_correction = list(spell_checker.suggest(word))\n",
    "        corrected_word = suggested_correction[0] if suggested_correction else word\n",
    "        misspelled_words[original_word] = corrected_word\n",
    "        corrected_tokens.append(corrected_word)\n",
    "    else:\n",
    "        corrected_tokens.append(word)\n",
    "\n",
    "corrected_answer = \" \".join(corrected_tokens)\n",
    "\n",
    "print(\"Corrected Answer:\", corrected_answer)\n",
    "print(\"Number of Spelling Mistakes:\", misspelled_count)\n",
    "print(\"Misspelled Words and Corrections:\", misspelled_words)"
   ],
   "id": "7d7052e83bd6eba2",
   "outputs": [
    {
     "name": "stdout",
     "output_type": "stream",
     "text": [
      "Corrected Answer: inflatie zijn wanneer de prijs van product en dienst stijgen waardoor je weinig kunnen kopen met hetzelfde geld\n",
      "Number of Spelling Mistakes: 0\n",
      "Misspelled Words and Corrections: {}\n"
     ]
    }
   ],
   "execution_count": 105
  },
  {
   "metadata": {},
   "cell_type": "markdown",
   "source": [
    "## Step 3: Keyword Matching\n",
    "TODO: Expand and validate"
   ],
   "id": "188e9eff6f09e934"
  },
  {
   "metadata": {
    "ExecuteTime": {
     "end_time": "2025-02-12T00:04:58.050991Z",
     "start_time": "2025-02-12T00:04:58.045975Z"
    }
   },
   "cell_type": "code",
   "source": [
    "keyword_score = sum(1 for word in lemmatized_keywords if word in corrected_answer.lower()) / len(keywords)\n",
    "print(\"Keyword Score:\", keyword_score)"
   ],
   "id": "d346876d5024f9f4",
   "outputs": [
    {
     "name": "stdout",
     "output_type": "stream",
     "text": [
      "Keyword Score: 0.42857142857142855\n"
     ]
    }
   ],
   "execution_count": 106
  },
  {
   "metadata": {},
   "cell_type": "markdown",
   "source": "## Step 4: Semantic Similarity with BERTje",
   "id": "8de302a6dcf359ca"
  },
  {
   "metadata": {},
   "cell_type": "markdown",
   "source": [
    "### 4.1 Using [CLS] tokens\n",
    "The [CLS] token provides a compact representation of the entire input sequence, making it ideal for tasks like classification"
   ],
   "id": "f87c07aa87acf3e8"
  },
  {
   "metadata": {
    "ExecuteTime": {
     "end_time": "2025-02-12T00:04:58.262536Z",
     "start_time": "2025-02-12T00:04:58.114539Z"
    }
   },
   "cell_type": "code",
   "source": [
    "# Get the embeddings for the student answer\n",
    "inputs_student = tokenizer(corrected_answer, return_tensors=\"pt\", padding=True, truncation=True)\n",
    "with torch.no_grad():\n",
    "    student_output = bertje_model(**inputs_student)\n",
    "    student_cls_embedding = student_output.last_hidden_state[:, 0, :]  # First token is [CLS]\n",
    "\n",
    "# Get the embeddings for the model answer\n",
    "inputs_model = tokenizer(model_answer, return_tensors=\"pt\", padding=True, truncation=True)\n",
    "with torch.no_grad():\n",
    "    model_output = bertje_model(**inputs_model)\n",
    "    model_cls_embedding = model_output.last_hidden_state[:, 0, :]  # First token is [CLS]\n",
    "\n",
    "# Compute the cosine similarity between the [CLS] token embeddings\n",
    "similarity_score = torch.nn.functional.cosine_similarity(student_cls_embedding, model_cls_embedding).item()\n",
    "print(\"Semantic Similarity Score using [CLS] token:\", similarity_score)"
   ],
   "id": "cbb00ff281b968fd",
   "outputs": [
    {
     "name": "stdout",
     "output_type": "stream",
     "text": [
      "Semantic Similarity Score using [CLS] token: 0.6917760372161865\n"
     ]
    }
   ],
   "execution_count": 107
  },
  {
   "metadata": {},
   "cell_type": "markdown",
   "source": [
    "### 4.2 Using the Mean of Token Embeddings\n",
    "averaging token embeddings captures a broader context by considering all words in the sentence, which can be useful for tasks requiring more nuanced understanding"
   ],
   "id": "f536c8417e122e1c"
  },
  {
   "metadata": {
    "ExecuteTime": {
     "end_time": "2025-02-12T00:04:58.520386Z",
     "start_time": "2025-02-12T00:04:58.342923Z"
    }
   },
   "cell_type": "code",
   "source": [
    "inputs = tokenizer(corrected_answer, return_tensors=\"pt\", padding=True, truncation=True)\n",
    "with torch.no_grad():\n",
    "    student_embedding = bertje_model(**inputs).last_hidden_state.mean(dim=1)\n",
    "\n",
    "inputs = tokenizer(lemmatized_model_answer, return_tensors=\"pt\", padding=True, truncation=True)\n",
    "with torch.no_grad():\n",
    "    model_embedding = bertje_model(**inputs).last_hidden_state.mean(dim=1)\n",
    "\n",
    "similarity_score = torch.nn.functional.cosine_similarity(student_embedding, model_embedding).item()\n",
    "print(\"Semantic Similarity Score:\", similarity_score)"
   ],
   "id": "16627fa3d6afaad9",
   "outputs": [
    {
     "name": "stdout",
     "output_type": "stream",
     "text": [
      "Semantic Similarity Score: 0.8731160163879395\n"
     ]
    }
   ],
   "execution_count": 108
  },
  {
   "metadata": {},
   "cell_type": "markdown",
   "source": [
    "I will use the mean of token embeddings because it captures a more detailed and nuanced understanding of the entire sentence by considering the contribution of all words, which is important for tasks that require a deeper contextual understanding.\n",
    "\n",
    "\n",
    "\n",
    "\n",
    "\n",
    "\n"
   ],
   "id": "47af65a245db3b2b"
  },
  {
   "metadata": {},
   "cell_type": "markdown",
   "source": "## Step 5: Compound Score Calculation",
   "id": "961e4856bd136407"
  },
  {
   "metadata": {
    "ExecuteTime": {
     "end_time": "2025-02-12T00:04:58.838572Z",
     "start_time": "2025-02-12T00:04:58.608980Z"
    }
   },
   "cell_type": "code",
   "source": [
    "keyword_weight = 0.7 * keyword_score\n",
    "similarity_weight = 0.3 * similarity_score\n",
    "final_score = keyword_weight + similarity_weight\n",
    "\n",
    "print(\"Final Score:\", final_score)\n",
    "\n",
    "# Plotting the compound score\n",
    "scores = [keyword_weight, similarity_weight]\n",
    "labels = ['Keyword Match Contribution', 'Semantic Similarity Contribution']\n",
    "\n",
    "plt.figure(figsize=(8, 6))\n",
    "plt.pie(scores, labels=labels, autopct='%1.1f%%', startangle=90, colors=['orange', 'lightblue'])\n",
    "plt.title(f'Final Score Breakdown (Final Score: {final_score:.2f})')\n",
    "plt.show()\n",
    "\n",
    "# Plot a side-by-side bar chart comparing the student answer vs model answer in terms of keyword match and similarity\n",
    "labels = ['Keyword Match', 'Semantic Similarity']\n",
    "model_values = [1.0, similarity_score]  # Full match for model answer\n",
    "student_values = [keyword_score, similarity_score]\n",
    "\n",
    "x = np.arange(len(labels))  # the label locations\n",
    "width = 0.35  # the width of the bars\n",
    "\n",
    "fig, ax = plt.subplots(figsize=(8, 6))\n",
    "\n",
    "rects1 = ax.bar(x - width/2, model_values, width, label='Model Answer', color='green')\n",
    "rects2 = ax.bar(x + width/2, student_values, width, label='Student Answer', color='red')\n",
    "\n",
    "ax.set_ylabel('Scores')\n",
    "ax.set_title('Comparison of Scores: Model vs Student Answer')\n",
    "ax.set_xticks(x)\n",
    "ax.set_xticklabels(labels)\n",
    "ax.legend()\n",
    "\n",
    "plt.show()"
   ],
   "id": "2a893f6b1eae77bb",
   "outputs": [
    {
     "name": "stdout",
     "output_type": "stream",
     "text": [
      "Final Score: 0.5619348049163818\n"
     ]
    },
    {
     "data": {
      "text/plain": [
       "<Figure size 800x600 with 1 Axes>"
      ],
      "image/png": "[encoded data removed]"
     },
     "metadata": {},
     "output_type": "display_data"
    },
    {
     "data": {
      "text/plain": [
       "<Figure size 800x600 with 1 Axes>"
      ],
      "image/png": "[encoded data removed]"
     },
     "metadata": {},
     "output_type": "display_data"
    }
   ],
   "execution_count": 109
  }
 ],
 "metadata": {
  "kernelspec": {
   "display_name": "Python 3",
   "language": "python",
   "name": "python3"
  },
  "language_info": {
   "codemirror_mode": {
    "name": "ipython",
    "version": 2
   },
   "file_extension": ".py",
   "mimetype": "text/x-python",
   "name": "python",
   "nbconvert_exporter": "python",
   "pygments_lexer": "ipython2",
   "version": "2.7.6"
  }
 },
 "nbformat": 4,
 "nbformat_minor": 5
}
