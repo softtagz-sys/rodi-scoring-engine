{
 "cells": [
  {
   "metadata": {},
   "cell_type": "markdown",
   "source": "# Scoring Experiment",
   "id": "2aa8e604861c583d"
  },
  {
   "cell_type": "code",
   "id": "initial_id",
   "metadata": {
    "collapsed": true,
    "ExecuteTime": {
     "end_time": "2025-02-11T22:32:36.222166Z",
     "start_time": "2025-02-11T22:32:36.217636Z"
    }
   },
   "source": [
    "# imports\n",
    "import spacy\n",
    "from transformers import AutoTokenizer, AutoModel\n",
    "import phunspell"
   ],
   "outputs": [],
   "execution_count": 6
  },
  {
   "metadata": {},
   "cell_type": "markdown",
   "source": "### Load NLP Tools",
   "id": "5e87ad0236fcf32e"
  },
  {
   "metadata": {
    "ExecuteTime": {
     "end_time": "2025-02-11T22:31:45.959712Z",
     "start_time": "2025-02-11T22:31:44.128352Z"
    }
   },
   "cell_type": "code",
   "source": [
    "# Spacy\n",
    "nlp = spacy.load('nl_core_news_sm')"
   ],
   "id": "d3e7ddd2c107dc7c",
   "outputs": [],
   "execution_count": 2
  },
  {
   "metadata": {},
   "cell_type": "markdown",
   "source": [
    "Download the dutch spacy model if necessary\n",
    "```bash\n",
    "python -m spacy download nl_core_news_sm\n",
    "```"
   ],
   "id": "2ebc0f95f0e15949"
  },
  {
   "metadata": {
    "ExecuteTime": {
     "end_time": "2025-02-11T22:31:48.411959Z",
     "start_time": "2025-02-11T22:31:46.557254Z"
    }
   },
   "cell_type": "code",
   "source": [
    "# Hunspell\n",
    "spell_checker = phunspell.Phunspell('nl_NL')"
   ],
   "id": "5509ea3c907bedd3",
   "outputs": [],
   "execution_count": 3
  },
  {
   "metadata": {
    "ExecuteTime": {
     "end_time": "2025-02-11T22:31:49.676610Z",
     "start_time": "2025-02-11T22:31:48.425601Z"
    }
   },
   "cell_type": "code",
   "source": [
    "# Bertje\n",
    "tokenizer = AutoTokenizer.from_pretrained(\"GroNLP/bert-base-dutch-cased\")\n",
    "bertje_model = AutoModel.from_pretrained(\"GroNLP/bert-base-dutch-cased\")"
   ],
   "id": "e7f8844e0fc238d0",
   "outputs": [
    {
     "name": "stderr",
     "output_type": "stream",
     "text": [
      "Some weights of BertModel were not initialized from the model checkpoint at GroNLP/bert-base-dutch-cased and are newly initialized: ['bert.pooler.dense.bias', 'bert.pooler.dense.weight']\n",
      "You should probably TRAIN this model on a down-stream task to be able to use it for predictions and inference.\n"
     ]
    }
   ],
   "execution_count": 4
  },
  {
   "metadata": {
    "ExecuteTime": {
     "end_time": "2025-02-11T22:31:49.704613Z",
     "start_time": "2025-02-11T22:31:49.699512Z"
    }
   },
   "cell_type": "code",
   "source": [
    "# Sample answers\n",
    "student_answer = \"Planten gebruiken zonlicht om energie te maken via fotosintezze\"\n",
    "model_answer = \"Fotosynthese is het proces waarbij planten zonlicht omzetten in energie.\""
   ],
   "id": "b2d6b28ca9c1400d",
   "outputs": [],
   "execution_count": 5
  }
 ],
 "metadata": {
  "kernelspec": {
   "display_name": "Python 3",
   "language": "python",
   "name": "python3"
  },
  "language_info": {
   "codemirror_mode": {
    "name": "ipython",
    "version": 2
   },
   "file_extension": ".py",
   "mimetype": "text/x-python",
   "name": "python",
   "nbconvert_exporter": "python",
   "pygments_lexer": "ipython2",
   "version": "2.7.6"
  }
 },
 "nbformat": 4,
 "nbformat_minor": 5
}
